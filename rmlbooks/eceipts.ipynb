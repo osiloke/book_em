{
  "cells": [
    {
      "cell_type": "markdown",
      "metadata": {
        "id": "view-in-github",
        "colab_type": "text"
      },
      "source": [
        "<a href=\"https://colab.research.google.com/github/osiloke/book_em/blob/main/rmlbooks/eceipts.ipynb\" target=\"_parent\"><img src=\"https://colab.research.google.com/assets/colab-badge.svg\" alt=\"Open In Colab\"/></a>"
      ]
    },
    {
      "cell_type": "markdown",
      "metadata": {
        "id": "OMzVA1L2EVef"
      },
      "source": [
        "# A GenAI tale of a burr'iful state based receipt scanner\n",
        "\n",
        "In this 2 part post, i will create a receipt scanner using gemini 1.5 for generating the content from the as well as instructor for eforcing correct formatted json.\n",
        "\n",
        "The major Objectives are\n",
        "- Utilize GenAI for data extraction from scanned receipts.\n",
        "- Create a Jupyter notebook with the entire process.\n",
        "\n",
        "This post will also touch on the following python libraries\n",
        "- `pydantic` (for structured JSON extraction)\n",
        "- `instructor` (for translating pydantic to llm request)\n",
        "- `burr` (for state machine modeling and simulation)\n",
        "- `google.generativeai` (LLM for generative AI)   \n",
        "- `PIL` (for processing images)\n",
        "- `rich` (for pretty printing)\n",
        "\n",
        "## Part 1 - Scanning Receipts\n",
        "\n",
        "### Why scan receipts with GenAI?\n",
        "Well it's actually a health problem. I try as much as possible to eat a healthy meal, given that i spend most of my day in a squat position infront of my p'top.\n",
        "I spend my morning walking to a nearby grocery store to pick up locally sourced ingredients to make healthy home cooked meals. This started off as a way to distract myself from my p'top but eventually became a sort of lifestyle.\n",
        "\n",
        "However, i noticed that my grocery bill gradually become more expensive due to subtle changes in price of different items which led me to keep stacks of receipts like a hoarder. I don't love data entry, who does? so obviously i ended up with a pile of papers which was unscalable for a p'top guy with no time.\n",
        "\n",
        "Besides, papers?. Where tech is going we don't need papers.\n",
        "\n",
        "![Where tech is going we don't need paper](https://media1.tenor.com/m/3idC48k28zcAAAAd/roads-where-were-going-we-dont-need-roads.gif))\n",
        "\n"
      ]
    },
    {
      "cell_type": "markdown",
      "metadata": {
        "id": "gdUk-5lSEVeh"
      },
      "source": [
        "### GenAI Solution, But first...\n",
        "\n",
        "I struggle with the LLM framework offerings. They are plagued with way too much abstractions which take away control and introspection from it's users. This makes it difficult to dig deep into what exactly the framework is doing with all those sweet `tokens`. There are tools you can use but they are backed by subscriptions et al.\n",
        "\n",
        "Let's take a simple receipt scanner for managing my daily transactions. I chose to use a library that gives me control, structure, introspection and a simple UI, especially in its application to machine learning.\n",
        "\n",
        "Introducing [`burr`](https://burr.dagworks.io/), a library which brings functional programming to state management and manages to slide in a bit of visualization and state storage abstraction.\n",
        "\n",
        "I will talk more about burr much later but For now, watch this [walkthrough](https://www.loom.com/share/a10f163428b942fea55db1a84b1140d8?sid=1512863b-f533-4a42-a2f3-95b13deb07c9) to learn more."
      ]
    },
    {
      "cell_type": "markdown",
      "metadata": {
        "id": "x26iCPYxEVeh"
      },
      "source": [
        "### Receipt scanning as a series of states\n",
        "Before diving into the main code the receipt scanners states need to be identified. I identified the following basic states of the scanner.\n",
        "\n",
        "1. Fetch Receipt Image  \n",
        "2. Extract Receipt Information in JSON\n",
        "3. Validate Extracted JSON\n",
        "4. **Step missing**\n",
        "5. High 5!\n",
        "\n",
        "Ok, so step 5 is not really a step but when did High 5's stop being cool.\n",
        "\n",
        "Nonetheles, these steps give a starting point for the functions we need to build our scanner so lets dive into each step."
      ]
    },
    {
      "cell_type": "markdown",
      "metadata": {
        "id": "BAgb2zy5EVei"
      },
      "source": [
        "### But first a little intermission to install dependencies"
      ]
    },
    {
      "cell_type": "code",
      "execution_count": null,
      "metadata": {
        "id": "g5_QzXWCEVei",
        "outputId": "ecceea5f-ec68-4f24-92b5-7ac67ca9ee2b"
      },
      "outputs": [
        {
          "name": "stdout",
          "output_type": "stream",
          "text": [
            "\n",
            "\u001b[1m[\u001b[0m\u001b[34;49mnotice\u001b[0m\u001b[1;39;49m]\u001b[0m\u001b[39;49m A new release of pip is available: \u001b[0m\u001b[31;49m24.0\u001b[0m\u001b[39;49m -> \u001b[0m\u001b[32;49m24.1.1\u001b[0m\n",
            "\u001b[1m[\u001b[0m\u001b[34;49mnotice\u001b[0m\u001b[1;39;49m]\u001b[0m\u001b[39;49m To update, run: \u001b[0m\u001b[32;49mpython3.11 -m pip install --upgrade pip\u001b[0m\n",
            "Note: you may need to restart the kernel to use updated packages.\n"
          ]
        }
      ],
      "source": [
        "%pip install burr instructor pydantic google.generativeai pil rich wget -q"
      ]
    },
    {
      "cell_type": "code",
      "execution_count": null,
      "metadata": {
        "id": "hkSIfYZeEVej"
      },
      "outputs": [],
      "source": [
        "#rich will be used to print pretty outout\n",
        "from rich import print"
      ]
    },
    {
      "cell_type": "markdown",
      "metadata": {
        "id": "Ik9zUAC4EVej"
      },
      "source": [
        "### Step 1 | Fetch Receipt Image\n",
        "\n",
        "The [expressexpense](https://expressexpense.com/blog/free-receipt-images-ocr-machine-learning-dataset/) receipt dataset is a good source of various types of scanned receipt images that we can play with.\n",
        "\n",
        "Lets go get it..."
      ]
    },
    {
      "cell_type": "code",
      "execution_count": null,
      "metadata": {
        "id": "D5rdskpgEVek"
      },
      "outputs": [],
      "source": [
        "!wget -c https://expressexpense.com/large-receipt-image-dataset-SRD.zip\n",
        "!mkdir -p receipts\n",
        "!unzip -q large-receipt-image-dataset-SRD.zip -d receipts"
      ]
    },
    {
      "cell_type": "code",
      "execution_count": null,
      "metadata": {
        "id": "zarvvqRMEVek",
        "outputId": "2b63f982-550e-433d-b499-c3eb8933b87f"
      },
      "outputs": [
        {
          "data": {
            "image/jpeg": "[encoded data removed]",
            "text/plain": [
              "<IPython.core.display.Image object>"
            ]
          },
          "execution_count": 303,
          "metadata": {},
          "output_type": "execute_result"
        }
      ],
      "source": [
        "import os, random\n",
        "from IPython.display import Image\n",
        "\"\"\"Lets pick a receipt at random\"\"\"\n",
        "receipts = os.listdir('receipts')\n",
        "random_receipt = random.choice(receipts)\n",
        "receipt_filename = os.path.join('receipts', random_receipt)\n",
        "Image(receipt_filename)\n"
      ]
    },
    {
      "cell_type": "markdown",
      "metadata": {
        "id": "_RExJ61gEVek"
      },
      "source": [
        "### Step 2 | Extract Receipt Information in JSON Format"
      ]
    },
    {
      "cell_type": "markdown",
      "metadata": {
        "id": "fdpIAJQVEVek"
      },
      "source": [
        "Lets setup the google generativeai library with the API KEY obtained from google AI studio."
      ]
    },
    {
      "cell_type": "markdown",
      "metadata": {
        "id": "qVs0xzHiEVek"
      },
      "source": [
        "An `API KEY` is required To use gemini 1.5 and you can get one from [ai.google.dev](https://ai.google.dev/gemini-api/docs/api-key)."
      ]
    },
    {
      "cell_type": "code",
      "execution_count": null,
      "metadata": {
        "id": "1Vef5n56EVel"
      },
      "outputs": [],
      "source": [
        "import google.generativeai as genai\n",
        "import os\n",
        "\n",
        "if os.environ[\"GOOGLE_API_KEY\"] == None:\n",
        "    api_key = input('Enter API KEY: ')\n",
        "    os.environ.setdefault(\"GOOGLE_API_KEY\", api_key)\n",
        "genai.configure(api_key=os.environ[\"GOOGLE_API_KEY\"])"
      ]
    },
    {
      "cell_type": "code",
      "execution_count": null,
      "metadata": {
        "id": "w-dcMIIMEVel",
        "outputId": "07a0dc38-fcd1-48dc-d1c5-2b2967b3e9a9"
      },
      "outputs": [
        {
          "data": {
            "text/html": [
              "<pre style=\"white-space:pre;overflow-x:auto;line-height:normal;font-family:Menlo,'DejaVu Sans Mono',consolas,'Courier New',monospace\">The phrase <span style=\"color: #008000; text-decoration-color: #008000\">\"I'm bringing sexy back\"</span> is a lyric from the song **<span style=\"color: #008000; text-decoration-color: #008000\">\"SexyBack\"</span>** by **Justin Timberlake**. \n",
              "\n",
              "The song was released in <span style=\"color: #008080; text-decoration-color: #008080; font-weight: bold\">2006</span> and became a massive hit, making the phrase popular and synonymous with Timberlake \n",
              "himself. \n",
              "\n",
              "There's no particular place where <span style=\"color: #008000; text-decoration-color: #008000\">\"sexy\"</span> went, as it's a concept that evolves with fashion, trends, and cultural \n",
              "shifts. The phrase was meant to be playful and ironic, suggesting that Timberlake was bringing back a certain style\n",
              "of sex appeal. \n",
              "\n",
              "</pre>\n"
            ],
            "text/plain": [
              "The phrase \u001b[32m\"I'm bringing sexy back\"\u001b[0m is a lyric from the song **\u001b[32m\"SexyBack\"\u001b[0m** by **Justin Timberlake**. \n",
              "\n",
              "The song was released in \u001b[1;36m2006\u001b[0m and became a massive hit, making the phrase popular and synonymous with Timberlake \n",
              "himself. \n",
              "\n",
              "There's no particular place where \u001b[32m\"sexy\"\u001b[0m went, as it's a concept that evolves with fashion, trends, and cultural \n",
              "shifts. The phrase was meant to be playful and ironic, suggesting that Timberlake was bringing back a certain style\n",
              "of sex appeal. \n",
              "\n"
            ]
          },
          "metadata": {},
          "output_type": "display_data"
        }
      ],
      "source": [
        "\"\"\"Completion calls can be made easily using the genai library.\n",
        "Note, the word sexy makes this prompt unsafe, hold on to your hats this prompt is NSFW\"\"\"\n",
        "model = genai.GenerativeModel('gemini-1.5-flash')\n",
        "\n",
        "safety_settings = [\n",
        "    {\n",
        "        \"category\": \"HARM_CATEGORY_HARASSMENT\",\n",
        "        \"threshold\": \"BLOCK_NONE\",\n",
        "    },\n",
        "    {\n",
        "        \"category\": \"HARM_CATEGORY_HATE_SPEECH\",\n",
        "        \"threshold\": \"BLOCK_NONE\",\n",
        "    },\n",
        "    {\n",
        "        \"category\": \"HARM_CATEGORY_SEXUALLY_EXPLICIT\",\n",
        "        \"threshold\": \"BLOCK_NONE\",\n",
        "    },\n",
        "    {\n",
        "        \"category\": \"HARM_CATEGORY_DANGEROUS_CONTENT\",\n",
        "        \"threshold\": \"BLOCK_NONE\",\n",
        "    }\n",
        "]\n",
        "\n",
        "response = model.generate_content(\"Who said i'm bringing sexy back and where did it go?\", safety_settings=safety_settings)\n",
        "print(response.text)"
      ]
    },
    {
      "cell_type": "markdown",
      "metadata": {
        "id": "hGvHSmqqEVel"
      },
      "source": [
        "Ok google, sheesh 🙄"
      ]
    },
    {
      "cell_type": "markdown",
      "metadata": {
        "id": "kXjTF_uXEVel"
      },
      "source": [
        "That was a bit wordy, let's try to constrain gemini's response so as to save some tokens."
      ]
    },
    {
      "cell_type": "code",
      "execution_count": null,
      "metadata": {
        "id": "JzwFiPMnEVem",
        "outputId": "8451d6bc-a66c-4492-dfd1-76c175d64256"
      },
      "outputs": [
        {
          "data": {
            "text/html": [
              "<pre style=\"white-space:pre;overflow-x:auto;line-height:normal;font-family:Menlo,'DejaVu Sans Mono',consolas,'Courier New',monospace\">Justin Timberlake said <span style=\"color: #008000; text-decoration-color: #008000\">\"I'm bringing sexy back.\"</span> Sexy never left. \n",
              "\n",
              "</pre>\n"
            ],
            "text/plain": [
              "Justin Timberlake said \u001b[32m\"I'm bringing sexy back.\"\u001b[0m Sexy never left. \n",
              "\n"
            ]
          },
          "metadata": {},
          "output_type": "display_data"
        }
      ],
      "source": [
        "response = model.generate_content(\n",
        "    \"Answer the following question with as little words as possible but still retain the correct meaning.\"\\\n",
        "    \"Who said i'm bringing sexy back? and where did it go?\"\n",
        ", safety_settings=safety_settings)\n",
        "print(response.text)"
      ]
    },
    {
      "cell_type": "markdown",
      "metadata": {
        "id": "IO21oIvsEVem"
      },
      "source": [
        "GenAI's tend to be very talktaive since it's very lonely in those GPU farms hence the note to `simmahdownnow`.\n",
        "\n",
        "\n",
        "![simmahdownnow](https://tenor.com/view/snl-simma-down-now-cherioteri-gif-13501676.gif )"
      ]
    },
    {
      "cell_type": "markdown",
      "metadata": {
        "id": "0Qb87UrBEVem"
      },
      "source": [
        "Now i am going to work with the receipt images. The following receipt seems crumpled enough to use.\n"
      ]
    },
    {
      "cell_type": "code",
      "execution_count": null,
      "metadata": {
        "id": "u9R2OkwuEVem",
        "outputId": "6a2ceb89-d296-47eb-d2a0-eee0ea2a1540"
      },
      "outputs": [
        {
          "data": {
            "image/jpeg": "[encoded data removed]",
            "text/plain": [
              "<IPython.core.display.Image object>"
            ]
          },
          "metadata": {},
          "output_type": "display_data"
        }
      ],
      "source": [
        "from PIL import Image as PIL_Image\n",
        "receipt = receipts[100]\n",
        "receipt_filename = os.path.abspath(os.path.join('receipts', receipt))\n",
        "receipt_image = PIL_Image.open(receipt_filename)\n",
        "display(Image(receipt_filename))"
      ]
    },
    {
      "cell_type": "markdown",
      "metadata": {
        "id": "I_BMH-CVEVem"
      },
      "source": [
        "Now we prompt..."
      ]
    },
    {
      "cell_type": "code",
      "execution_count": null,
      "metadata": {
        "id": "L_rvpIQBEVen",
        "outputId": "bf762d95-c6cd-4580-9318-5985cac344cf"
      },
      "outputs": [
        {
          "data": {
            "text/html": [
              "<pre style=\"white-space:pre;overflow-x:auto;line-height:normal;font-family:Menlo,'DejaVu Sans Mono',consolas,'Courier New',monospace\">El Valle\n",
              "Mexican Restaurant\n",
              "<span style=\"color: #008080; text-decoration-color: #008080; font-weight: bold\">305</span> W. John St.\n",
              "Matthews, NC <span style=\"color: #008080; text-decoration-color: #008080; font-weight: bold\">28105</span>\n",
              "<span style=\"font-weight: bold\">(</span><span style=\"color: #008080; text-decoration-color: #008080; font-weight: bold\">704</span><span style=\"font-weight: bold\">)</span> <span style=\"color: #008080; text-decoration-color: #008080; font-weight: bold\">845</span>-<span style=\"color: #008080; text-decoration-color: #008080; font-weight: bold\">1417</span>\n",
              "\n",
              "Server: GEDVANNY\n",
              "Station: <span style=\"color: #008080; text-decoration-color: #008080; font-weight: bold\">10</span>\n",
              "\n",
              "Order #: <span style=\"color: #008080; text-decoration-color: #008080; font-weight: bold\">403593</span>\n",
              "Table: <span style=\"color: #008080; text-decoration-color: #008080; font-weight: bold\">9</span>\n",
              "\n",
              "Dine In\n",
              "Guests: <span style=\"color: #008080; text-decoration-color: #008080; font-weight: bold\">1</span>\n",
              "\n",
              "<span style=\"color: #008080; text-decoration-color: #008080; font-weight: bold\">1</span> GUACAMOLE DIP     <span style=\"color: #008080; text-decoration-color: #008080; font-weight: bold\">3.99</span>\n",
              "<span style=\"color: #008080; text-decoration-color: #008080; font-weight: bold\">1</span> DIET COKE        <span style=\"color: #008080; text-decoration-color: #008080; font-weight: bold\">2.15</span>\n",
              "<span style=\"color: #008080; text-decoration-color: #008080; font-weight: bold\">1</span> LUNCH FAJITAS     <span style=\"color: #008080; text-decoration-color: #008080; font-weight: bold\">7.75</span>\n",
              "<span style=\"color: #008080; text-decoration-color: #008080; font-weight: bold\">1</span> TORTILLAS <span style=\"font-weight: bold\">(</span><span style=\"color: #008080; text-decoration-color: #008080; font-weight: bold\">3</span><span style=\"font-weight: bold\">)</span>    <span style=\"color: #008080; text-decoration-color: #008080; font-weight: bold\">1.25</span>\n",
              "<span style=\"color: #008080; text-decoration-color: #008080; font-weight: bold\">1</span> SOUR CREAM        <span style=\"color: #008080; text-decoration-color: #008080; font-weight: bold\">1.25</span>\n",
              "\n",
              "SUB TOTAL:      <span style=\"color: #008080; text-decoration-color: #008080; font-weight: bold\">16.39</span>\n",
              "Tax <span style=\"color: #008080; text-decoration-color: #008080; font-weight: bold\">1</span>:          <span style=\"color: #008080; text-decoration-color: #008080; font-weight: bold\">1.36</span>\n",
              "\n",
              "TOTAL:          $<span style=\"color: #008080; text-decoration-color: #008080; font-weight: bold\">17.75</span>\n",
              "\n",
              "&gt;&gt; Ticket #: <span style=\"color: #008080; text-decoration-color: #008080; font-weight: bold\">7</span> &lt;&lt;\n",
              "<span style=\"color: #008080; text-decoration-color: #008080; font-weight: bold\">12</span>/<span style=\"color: #008080; text-decoration-color: #008080; font-weight: bold\">2</span>/<span style=\"color: #008080; text-decoration-color: #008080; font-weight: bold\">2017</span> <span style=\"color: #00ff00; text-decoration-color: #00ff00; font-weight: bold\">11:48:28</span> AM\n",
              "\n",
              "THANK YOU!\n",
              "</pre>\n"
            ],
            "text/plain": [
              "El Valle\n",
              "Mexican Restaurant\n",
              "\u001b[1;36m305\u001b[0m W. John St.\n",
              "Matthews, NC \u001b[1;36m28105\u001b[0m\n",
              "\u001b[1m(\u001b[0m\u001b[1;36m704\u001b[0m\u001b[1m)\u001b[0m \u001b[1;36m845\u001b[0m-\u001b[1;36m1417\u001b[0m\n",
              "\n",
              "Server: GEDVANNY\n",
              "Station: \u001b[1;36m10\u001b[0m\n",
              "\n",
              "Order #: \u001b[1;36m403593\u001b[0m\n",
              "Table: \u001b[1;36m9\u001b[0m\n",
              "\n",
              "Dine In\n",
              "Guests: \u001b[1;36m1\u001b[0m\n",
              "\n",
              "\u001b[1;36m1\u001b[0m GUACAMOLE DIP     \u001b[1;36m3.99\u001b[0m\n",
              "\u001b[1;36m1\u001b[0m DIET COKE        \u001b[1;36m2.15\u001b[0m\n",
              "\u001b[1;36m1\u001b[0m LUNCH FAJITAS     \u001b[1;36m7.75\u001b[0m\n",
              "\u001b[1;36m1\u001b[0m TORTILLAS \u001b[1m(\u001b[0m\u001b[1;36m3\u001b[0m\u001b[1m)\u001b[0m    \u001b[1;36m1.25\u001b[0m\n",
              "\u001b[1;36m1\u001b[0m SOUR CREAM        \u001b[1;36m1.25\u001b[0m\n",
              "\n",
              "SUB TOTAL:      \u001b[1;36m16.39\u001b[0m\n",
              "Tax \u001b[1;36m1\u001b[0m:          \u001b[1;36m1.36\u001b[0m\n",
              "\n",
              "TOTAL:          $\u001b[1;36m17.75\u001b[0m\n",
              "\n",
              ">> Ticket #: \u001b[1;36m7\u001b[0m <<\n",
              "\u001b[1;36m12\u001b[0m/\u001b[1;36m2\u001b[0m/\u001b[1;36m2017\u001b[0m \u001b[1;92m11:48:28\u001b[0m AM\n",
              "\n",
              "THANK YOU!\n"
            ]
          },
          "metadata": {},
          "output_type": "display_data"
        }
      ],
      "source": [
        "\"\"\"Single shot attempt at extracting all receipt information\"\"\"\n",
        "response = model.generate_content(\n",
        "    [\n",
        "    \"\"\"The image of the receipt below has information about all items purchased along with taxes, subtotal, total and business information.\n",
        "                Extract only the information that's available in the receipt image and return a well formatted response\"\"\", receipt_image\n",
        "    ],\n",
        "    safety_settings=safety_settings)\n",
        "\n",
        "print(response.text)\n"
      ]
    },
    {
      "cell_type": "markdown",
      "metadata": {
        "id": "2MU_0gRhEVen"
      },
      "source": [
        "Gemini 1.5 seems to have a good handle on images. However, this is not really helpful if the plan is to use this receipt data for something actionable.\n",
        "\n",
        "The response needs to be formatted to JSON This can be achieved with the wonderful instructor model which translates pydantic models to gemini functions. A schema will be defined with enough description of the data that will be extracted from the receipt image."
      ]
    },
    {
      "cell_type": "code",
      "execution_count": null,
      "metadata": {
        "id": "ls2XiDFPEVen"
      },
      "outputs": [],
      "source": [
        "import datetime\n",
        "from typing import List\n",
        "from pydantic import BaseModel, Field\n",
        "\n",
        "class InvoiceItem(BaseModel):\n",
        "    name: str = Field(..., description=\"The name of the item purchased.\")\n",
        "    quantity: int = Field(..., description=\"The quantity of items purchased.\")\n",
        "    price: float = Field(..., description=\"The amount of the current line item.\")\n",
        "    category: str = Field(..., description=\"The closest category this item belongs to.\")\n",
        "\n",
        "class ReceiptDetail(BaseModel):\n",
        "    currency: str = Field(..., description=\"The name of the currency.\")\n",
        "    business_name: str = Field(..., description=\"The name of the business where this receipt was created.\")\n",
        "    created: datetime.datetime = Field(..., description=\"The date this receipt was created.\")\n",
        "    address: List[str] = Field(..., description=\"A line by line list of the component of the address of the business.\")\n",
        "    phone: str = Field(..., description=\"The phone number of this business.\")\n",
        "    teller: str = Field(..., description=\"This is the teller, server or employee that handled the payment for this receipt.\")\n",
        "    order_no: str = Field(..., description=\"This is the order number for this reciept that usually appears at the top of the receipt.\")\n",
        "    invoice_items: List[InvoiceItem] = Field(..., description=\"A list of line by line items that were purchased in the receipt.\")\n",
        "    subtotal: float = Field(..., description=\"This subtotal amount of this receipt.\")\n",
        "    taxes: List[float] = Field(..., description=\"A list of any taxes applied to this receipt.\")\n",
        "    total: float = Field(..., description=\"This total amount of this receipt.\")"
      ]
    },
    {
      "cell_type": "markdown",
      "metadata": {
        "id": "w2LyZgs1EVen"
      },
      "source": [
        "The instructor library works by `monkey patching` whatever llm is being used. It enhances the original prompt with a system message that `instructs` the llm to generate a valid json based on a schema. It further adds a tool to the llm with the specification for the schema."
      ]
    },
    {
      "cell_type": "code",
      "execution_count": null,
      "metadata": {
        "id": "si2v1bHJEVen",
        "outputId": "21db49e4-0fe9-4ca4-e3b1-234dedef71c6"
      },
      "outputs": [
        {
          "data": {
            "text/html": [
              "<pre style=\"white-space:pre;overflow-x:auto;line-height:normal;font-family:Menlo,'DejaVu Sans Mono',consolas,'Courier New',monospace\"><span style=\"color: #800080; text-decoration-color: #800080; font-weight: bold\">ReceiptDetail</span><span style=\"font-weight: bold\">(</span>\n",
              "    <span style=\"color: #808000; text-decoration-color: #808000\">currency</span>=<span style=\"color: #008000; text-decoration-color: #008000\">'$'</span>,\n",
              "    <span style=\"color: #808000; text-decoration-color: #808000\">business_name</span>=<span style=\"color: #008000; text-decoration-color: #008000\">'El Valle Mexican Restaurant'</span>,\n",
              "    <span style=\"color: #808000; text-decoration-color: #808000\">created</span>=<span style=\"color: #800080; text-decoration-color: #800080; font-weight: bold\">datetime</span><span style=\"color: #800080; text-decoration-color: #800080; font-weight: bold\">.datetime</span><span style=\"font-weight: bold\">(</span><span style=\"color: #008080; text-decoration-color: #008080; font-weight: bold\">2017</span>, <span style=\"color: #008080; text-decoration-color: #008080; font-weight: bold\">12</span>, <span style=\"color: #008080; text-decoration-color: #008080; font-weight: bold\">22</span>, <span style=\"color: #008080; text-decoration-color: #008080; font-weight: bold\">11</span>, <span style=\"color: #008080; text-decoration-color: #008080; font-weight: bold\">48</span>, <span style=\"color: #008080; text-decoration-color: #008080; font-weight: bold\">28</span><span style=\"font-weight: bold\">)</span>,\n",
              "    <span style=\"color: #808000; text-decoration-color: #808000\">address</span>=<span style=\"font-weight: bold\">[</span><span style=\"color: #008000; text-decoration-color: #008000\">'305 W. John St.'</span>, <span style=\"color: #008000; text-decoration-color: #008000\">'Matthews, NC 28105'</span>, <span style=\"color: #008000; text-decoration-color: #008000\">'(704) 845-1417'</span><span style=\"font-weight: bold\">]</span>,\n",
              "    <span style=\"color: #808000; text-decoration-color: #808000\">phone</span>=<span style=\"color: #008000; text-decoration-color: #008000\">'(704) 845-1417'</span>,\n",
              "    <span style=\"color: #808000; text-decoration-color: #808000\">teller</span>=<span style=\"color: #008000; text-decoration-color: #008000\">'GEDVANNY'</span>,\n",
              "    <span style=\"color: #808000; text-decoration-color: #808000\">order_no</span>=<span style=\"color: #008000; text-decoration-color: #008000\">'403593'</span>,\n",
              "    <span style=\"color: #808000; text-decoration-color: #808000\">invoice_items</span>=<span style=\"font-weight: bold\">[</span>\n",
              "        <span style=\"color: #800080; text-decoration-color: #800080; font-weight: bold\">InvoiceItem</span><span style=\"font-weight: bold\">(</span><span style=\"color: #808000; text-decoration-color: #808000\">name</span>=<span style=\"color: #008000; text-decoration-color: #008000\">'GUACAMOLE DIP'</span>, <span style=\"color: #808000; text-decoration-color: #808000\">quantity</span>=<span style=\"color: #008080; text-decoration-color: #008080; font-weight: bold\">1</span>, <span style=\"color: #808000; text-decoration-color: #808000\">price</span>=<span style=\"color: #008080; text-decoration-color: #008080; font-weight: bold\">3.99</span>, <span style=\"color: #808000; text-decoration-color: #808000\">category</span>=<span style=\"color: #008000; text-decoration-color: #008000\">'Appetizer'</span><span style=\"font-weight: bold\">)</span>,\n",
              "        <span style=\"color: #800080; text-decoration-color: #800080; font-weight: bold\">InvoiceItem</span><span style=\"font-weight: bold\">(</span><span style=\"color: #808000; text-decoration-color: #808000\">name</span>=<span style=\"color: #008000; text-decoration-color: #008000\">'DIET COKE'</span>, <span style=\"color: #808000; text-decoration-color: #808000\">quantity</span>=<span style=\"color: #008080; text-decoration-color: #008080; font-weight: bold\">1</span>, <span style=\"color: #808000; text-decoration-color: #808000\">price</span>=<span style=\"color: #008080; text-decoration-color: #008080; font-weight: bold\">2.15</span>, <span style=\"color: #808000; text-decoration-color: #808000\">category</span>=<span style=\"color: #008000; text-decoration-color: #008000\">'Drink'</span><span style=\"font-weight: bold\">)</span>,\n",
              "        <span style=\"color: #800080; text-decoration-color: #800080; font-weight: bold\">InvoiceItem</span><span style=\"font-weight: bold\">(</span><span style=\"color: #808000; text-decoration-color: #808000\">name</span>=<span style=\"color: #008000; text-decoration-color: #008000\">'LUNCH FAJITAS'</span>, <span style=\"color: #808000; text-decoration-color: #808000\">quantity</span>=<span style=\"color: #008080; text-decoration-color: #008080; font-weight: bold\">1</span>, <span style=\"color: #808000; text-decoration-color: #808000\">price</span>=<span style=\"color: #008080; text-decoration-color: #008080; font-weight: bold\">7.75</span>, <span style=\"color: #808000; text-decoration-color: #808000\">category</span>=<span style=\"color: #008000; text-decoration-color: #008000\">'Entree'</span><span style=\"font-weight: bold\">)</span>,\n",
              "        <span style=\"color: #800080; text-decoration-color: #800080; font-weight: bold\">InvoiceItem</span><span style=\"font-weight: bold\">(</span><span style=\"color: #808000; text-decoration-color: #808000\">name</span>=<span style=\"color: #008000; text-decoration-color: #008000\">'TORTILLAS (3)'</span>, <span style=\"color: #808000; text-decoration-color: #808000\">quantity</span>=<span style=\"color: #008080; text-decoration-color: #008080; font-weight: bold\">1</span>, <span style=\"color: #808000; text-decoration-color: #808000\">price</span>=<span style=\"color: #008080; text-decoration-color: #008080; font-weight: bold\">1.25</span>, <span style=\"color: #808000; text-decoration-color: #808000\">category</span>=<span style=\"color: #008000; text-decoration-color: #008000\">'Side'</span><span style=\"font-weight: bold\">)</span>,\n",
              "        <span style=\"color: #800080; text-decoration-color: #800080; font-weight: bold\">InvoiceItem</span><span style=\"font-weight: bold\">(</span><span style=\"color: #808000; text-decoration-color: #808000\">name</span>=<span style=\"color: #008000; text-decoration-color: #008000\">'SOUR CREAM'</span>, <span style=\"color: #808000; text-decoration-color: #808000\">quantity</span>=<span style=\"color: #008080; text-decoration-color: #008080; font-weight: bold\">1</span>, <span style=\"color: #808000; text-decoration-color: #808000\">price</span>=<span style=\"color: #008080; text-decoration-color: #008080; font-weight: bold\">1.25</span>, <span style=\"color: #808000; text-decoration-color: #808000\">category</span>=<span style=\"color: #008000; text-decoration-color: #008000\">'Side'</span><span style=\"font-weight: bold\">)</span>\n",
              "    <span style=\"font-weight: bold\">]</span>,\n",
              "    <span style=\"color: #808000; text-decoration-color: #808000\">subtotal</span>=<span style=\"color: #008080; text-decoration-color: #008080; font-weight: bold\">16.39</span>,\n",
              "    <span style=\"color: #808000; text-decoration-color: #808000\">taxes</span>=<span style=\"font-weight: bold\">[</span><span style=\"color: #008080; text-decoration-color: #008080; font-weight: bold\">1.36</span><span style=\"font-weight: bold\">]</span>,\n",
              "    <span style=\"color: #808000; text-decoration-color: #808000\">total</span>=<span style=\"color: #008080; text-decoration-color: #008080; font-weight: bold\">17.75</span>\n",
              "<span style=\"font-weight: bold\">)</span>\n",
              "</pre>\n"
            ],
            "text/plain": [
              "\u001b[1;35mReceiptDetail\u001b[0m\u001b[1m(\u001b[0m\n",
              "    \u001b[33mcurrency\u001b[0m=\u001b[32m'$'\u001b[0m,\n",
              "    \u001b[33mbusiness_name\u001b[0m=\u001b[32m'El Valle Mexican Restaurant'\u001b[0m,\n",
              "    \u001b[33mcreated\u001b[0m=\u001b[1;35mdatetime\u001b[0m\u001b[1;35m.datetime\u001b[0m\u001b[1m(\u001b[0m\u001b[1;36m2017\u001b[0m, \u001b[1;36m12\u001b[0m, \u001b[1;36m22\u001b[0m, \u001b[1;36m11\u001b[0m, \u001b[1;36m48\u001b[0m, \u001b[1;36m28\u001b[0m\u001b[1m)\u001b[0m,\n",
              "    \u001b[33maddress\u001b[0m=\u001b[1m[\u001b[0m\u001b[32m'305 W. John St.'\u001b[0m, \u001b[32m'Matthews, NC 28105'\u001b[0m, \u001b[32m'\u001b[0m\u001b[32m(\u001b[0m\u001b[32m704\u001b[0m\u001b[32m)\u001b[0m\u001b[32m 845-1417'\u001b[0m\u001b[1m]\u001b[0m,\n",
              "    \u001b[33mphone\u001b[0m=\u001b[32m'\u001b[0m\u001b[32m(\u001b[0m\u001b[32m704\u001b[0m\u001b[32m)\u001b[0m\u001b[32m 845-1417'\u001b[0m,\n",
              "    \u001b[33mteller\u001b[0m=\u001b[32m'GEDVANNY'\u001b[0m,\n",
              "    \u001b[33morder_no\u001b[0m=\u001b[32m'403593'\u001b[0m,\n",
              "    \u001b[33minvoice_items\u001b[0m=\u001b[1m[\u001b[0m\n",
              "        \u001b[1;35mInvoiceItem\u001b[0m\u001b[1m(\u001b[0m\u001b[33mname\u001b[0m=\u001b[32m'GUACAMOLE DIP'\u001b[0m, \u001b[33mquantity\u001b[0m=\u001b[1;36m1\u001b[0m, \u001b[33mprice\u001b[0m=\u001b[1;36m3\u001b[0m\u001b[1;36m.99\u001b[0m, \u001b[33mcategory\u001b[0m=\u001b[32m'Appetizer'\u001b[0m\u001b[1m)\u001b[0m,\n",
              "        \u001b[1;35mInvoiceItem\u001b[0m\u001b[1m(\u001b[0m\u001b[33mname\u001b[0m=\u001b[32m'DIET COKE'\u001b[0m, \u001b[33mquantity\u001b[0m=\u001b[1;36m1\u001b[0m, \u001b[33mprice\u001b[0m=\u001b[1;36m2\u001b[0m\u001b[1;36m.15\u001b[0m, \u001b[33mcategory\u001b[0m=\u001b[32m'Drink'\u001b[0m\u001b[1m)\u001b[0m,\n",
              "        \u001b[1;35mInvoiceItem\u001b[0m\u001b[1m(\u001b[0m\u001b[33mname\u001b[0m=\u001b[32m'LUNCH FAJITAS'\u001b[0m, \u001b[33mquantity\u001b[0m=\u001b[1;36m1\u001b[0m, \u001b[33mprice\u001b[0m=\u001b[1;36m7\u001b[0m\u001b[1;36m.75\u001b[0m, \u001b[33mcategory\u001b[0m=\u001b[32m'Entree'\u001b[0m\u001b[1m)\u001b[0m,\n",
              "        \u001b[1;35mInvoiceItem\u001b[0m\u001b[1m(\u001b[0m\u001b[33mname\u001b[0m=\u001b[32m'TORTILLAS \u001b[0m\u001b[32m(\u001b[0m\u001b[32m3\u001b[0m\u001b[32m)\u001b[0m\u001b[32m'\u001b[0m, \u001b[33mquantity\u001b[0m=\u001b[1;36m1\u001b[0m, \u001b[33mprice\u001b[0m=\u001b[1;36m1\u001b[0m\u001b[1;36m.25\u001b[0m, \u001b[33mcategory\u001b[0m=\u001b[32m'Side'\u001b[0m\u001b[1m)\u001b[0m,\n",
              "        \u001b[1;35mInvoiceItem\u001b[0m\u001b[1m(\u001b[0m\u001b[33mname\u001b[0m=\u001b[32m'SOUR CREAM'\u001b[0m, \u001b[33mquantity\u001b[0m=\u001b[1;36m1\u001b[0m, \u001b[33mprice\u001b[0m=\u001b[1;36m1\u001b[0m\u001b[1;36m.25\u001b[0m, \u001b[33mcategory\u001b[0m=\u001b[32m'Side'\u001b[0m\u001b[1m)\u001b[0m\n",
              "    \u001b[1m]\u001b[0m,\n",
              "    \u001b[33msubtotal\u001b[0m=\u001b[1;36m16\u001b[0m\u001b[1;36m.39\u001b[0m,\n",
              "    \u001b[33mtaxes\u001b[0m=\u001b[1m[\u001b[0m\u001b[1;36m1.36\u001b[0m\u001b[1m]\u001b[0m,\n",
              "    \u001b[33mtotal\u001b[0m=\u001b[1;36m17\u001b[0m\u001b[1;36m.75\u001b[0m\n",
              "\u001b[1m)\u001b[0m\n"
            ]
          },
          "metadata": {},
          "output_type": "display_data"
        }
      ],
      "source": [
        "import instructor\n",
        "\n",
        "\"\"\"Single shot attempt at extracting all receipt information\"\"\"\n",
        "messages = [\n",
        "    {\n",
        "        \"role\": \"user\",\n",
        "        \"content\":  \"extract the receipt from the image\\n\"\n",
        "    },\n",
        "    {\n",
        "        \"role\": \"user\",\n",
        "        \"content\":  receipt_image\n",
        "    }\n",
        "]\n",
        "client = instructor.from_gemini(\n",
        "    client=model,\n",
        "    mode=instructor.Mode.GEMINI_JSON,\n",
        ")\n",
        "resp = client.chat.completions.create(\n",
        "    messages=messages,\n",
        "    strict=True, #keeps the response content close to the source\n",
        "    response_model=ReceiptDetail,\n",
        ")\n",
        "print(resp)"
      ]
    },
    {
      "cell_type": "markdown",
      "metadata": {
        "id": "SggmUfh1EVeo"
      },
      "source": [
        "Now that looks caliente 🔥. It accurratel picked out all the relevant information that was defined in the schema."
      ]
    },
    {
      "cell_type": "markdown",
      "metadata": {
        "id": "B8RxDVcMEVeo"
      },
      "source": [
        "### Step 3 | Validate Extracted JSON\n",
        "\n",
        "This is more of a note than a step.\n",
        "\n",
        "Pydantic handles validation using the json schema defined by the model, however, thanks to the word Generative in GenAI LLM's tend to create or hallucinate content that may pass validation.\n",
        "\n",
        "For this reason, you may need to have some other way of validating that the generated receipt details are correct."
      ]
    },
    {
      "cell_type": "markdown",
      "metadata": {
        "id": "lZggF5TDEVeo"
      },
      "source": [
        "### Step 4 | You know where this is going...\n",
        "\n",
        "👇"
      ]
    },
    {
      "cell_type": "markdown",
      "metadata": {
        "id": "0csYKho5EVeo"
      },
      "source": [
        "### Step 5 | High 5\n",
        "\n",
        "Congrats, you sat through the whole post and probalbly learnt something. High 5's for you.\n",
        "\n",
        "![](https://media.tenor.com/VrxpcckTe2gAAAAi/hi5.gif)"
      ]
    },
    {
      "cell_type": "markdown",
      "metadata": {
        "id": "9D6-WPw4EVeo"
      },
      "source": [
        "\n",
        "## Next steps\n",
        "\n",
        "Get the jupyter book @ here\n",
        "\n",
        "### Part 2\n",
        "In part 2, i will take this simple receipt scanner and turn it into a state aware pipeline for handling receipt scanning requests using `burr`.\n",
        "\n",
        "Stay tuned.\n",
        "\n",
        "### Let's connect\n",
        "\n",
        "Getting in touch with me every where you see my name.\n",
        "[osiloke.com](https://osiloke.com)\n",
        "\n",
        "[x.com/osiloke](https://x.com/osiloke) |\n",
        "[linkedin.com/in/osiloke](https://linkedin.com/in/osiloke) |\n",
        "[github.com/osiloke](https://github.com/osiloke) |\n",
        "[facebook.com/osiloke](https://facebook.com/osiloke) |\n",
        "[instagram.com/osiloke](https://instagram.com/osiloke)"
      ]
    },
    {
      "cell_type": "markdown",
      "metadata": {
        "id": "upu6JiFbEVeo"
      },
      "source": []
    }
  ],
  "metadata": {
    "kernelspec": {
      "display_name": "Python 3",
      "language": "python",
      "name": "python3"
    },
    "language_info": {
      "codemirror_mode": {
        "name": "ipython",
        "version": 3
      },
      "file_extension": ".py",
      "mimetype": "text/x-python",
      "name": "python",
      "nbconvert_exporter": "python",
      "pygments_lexer": "ipython3",
      "version": "3.11.5"
    },
    "colab": {
      "provenance": [],
      "include_colab_link": true
    }
  },
  "nbformat": 4,
  "nbformat_minor": 0
}